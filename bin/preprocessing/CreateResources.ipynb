{
 "cells": [
  {
   "cell_type": "code",
   "execution_count": 54,
   "id": "9b9c7eee-b806-4354-b2ea-f0fe0172e2cd",
   "metadata": {},
   "outputs": [],
   "source": [
    "import json\n",
    "import pandas as pd\n",
    "import numpy as np"
   ]
  },
  {
   "cell_type": "code",
   "execution_count": 55,
   "id": "7aec9e6a-5059-4152-a3ec-52e7e4140dd3",
   "metadata": {},
   "outputs": [],
   "source": [
    "SOILPOINTS_FILE = \"Africa_Soil_Pts.csv\""
   ]
  },
  {
   "cell_type": "code",
   "execution_count": 56,
   "id": "9c0db8ce-512a-4742-a805-b5f528ebca30",
   "metadata": {},
   "outputs": [],
   "source": [
    "# Initialize Caches\n",
    "SOILPOINTS_DF = None\n",
    "ADMIN_REGIONS_CACHE = {}"
   ]
  },
  {
   "cell_type": "code",
   "execution_count": 57,
   "id": "e8474ee8-f53e-4f50-8e1b-cc752a54a8d0",
   "metadata": {},
   "outputs": [],
   "source": [
    "def get_soilpoints():\n",
    "    global SOILPOINTS_DF\n",
    "    if SOILPOINTS_DF is None:\n",
    "        df = pd.read_csv(SOILPOINTS_FILE, header=0)\n",
    "        df.lat = np.round(df.lat, decimals = 8)\n",
    "        df.lon = np.round(df.lon, decimals = 8)       \n",
    "        df = df.set_index(['lon', 'lat'])\n",
    "        SOILPOINTS_DF = df\n",
    "    return SOILPOINTS_DF"
   ]
  },
  {
   "cell_type": "code",
   "execution_count": 58,
   "id": "39fdccbb-d22f-4379-a989-8c3d4580e986",
   "metadata": {},
   "outputs": [],
   "source": [
    "def get_admin_regions_for_soil_point(lat, lng):\n",
    "    # Reduce precision\n",
    "    lat = round(lat, 8)\n",
    "    lng = round(lng, 8)\n",
    "    \n",
    "    if (lat,lng) in ADMIN_REGIONS_CACHE:\n",
    "        return ADMIN_REGIONS_CACHE[(lat,lng)]\n",
    "\n",
    "    df = get_soilpoints()\n",
    "    row = df.loc[(lng, lat)]\n",
    "    admin_regions = {\n",
    "        \"country\": row.country,\n",
    "        \"admin1\": row.admin1,\n",
    "        \"admin2\": row.admin2,\n",
    "        \"admin3\": row.admin3\n",
    "    }\n",
    "    ADMIN_REGIONS_CACHE[(lat,lng)] = admin_regions\n",
    "    return admin_regions"
   ]
  },
  {
   "cell_type": "code",
   "execution_count": 59,
   "id": "25728d5d-7d22-4a98-9cdd-3a8fa3aa7401",
   "metadata": {},
   "outputs": [],
   "source": [
    "def get_resources(resource_file):\n",
    "    resources = []\n",
    "    with open(resource_file, \"r\") as rf:\n",
    "        data = json.load(rf)\n",
    "        for res in data[\"resources\"]:\n",
    "            geo = res[\"resource_metadata\"][\"spatial_coverage\"][\"value\"]\n",
    "            admin_regions = get_admin_regions_for_soil_point(float(geo[\"y\"]), float(geo[\"x\"]))\n",
    "            resources.append({\n",
    "                \"filename\": res[\"resource_name\"],\n",
    "                \"country\": admin_regions[\"country\"],\n",
    "                \"admin1\": admin_regions[\"admin1\"],\n",
    "                \"admin2\": admin_regions[\"admin2\"],\n",
    "                \"admin3\": admin_regions[\"admin3\"],                \n",
    "            })\n",
    "    return resources"
   ]
  },
  {
   "cell_type": "code",
   "execution_count": 64,
   "id": "205ac992-79b9-45dd-90e0-20365ef46d43",
   "metadata": {},
   "outputs": [],
   "source": [
    "def create_soilfile_mapping():\n",
    "    df = pd.DataFrame(columns=[\n",
    "        'country', 'admin1', 'admin2', 'admin3', 'filename'\n",
    "    ])\n",
    "    countries = [\"Kenya\", \"Ethiopia\", \"SouthSudan\", \"Sudan\", \"Uganda\", \"Somalia\", \"Djibouti\", \"Eritrea\"]\n",
    "    for country in countries:\n",
    "        print(country)\n",
    "        resources = get_resources(\"Resources/\"+country+\"-Resources.json\")\n",
    "        for resource in resources:\n",
    "            df = df.append(resource, ignore_index = True)\n",
    "\n",
    "    df.set_index(['country', 'admin1', 'admin2', 'admin3'], inplace=True)\n",
    "    df.to_csv('HOAResources.csv')"
   ]
  },
  {
   "cell_type": "code",
   "execution_count": 65,
   "id": "40d05ef2-9135-495f-baf4-a64050ea21d4",
   "metadata": {},
   "outputs": [
    {
     "name": "stdout",
     "output_type": "stream",
     "text": [
      "Kenya\n",
      "Ethiopia\n",
      "SouthSudan\n",
      "Sudan\n",
      "Uganda\n",
      "Somalia\n",
      "Djibouti\n",
      "Eritrea\n"
     ]
    }
   ],
   "source": [
    "create_soilfile_mapping()"
   ]
  },
  {
   "cell_type": "code",
   "execution_count": null,
   "id": "f78d58da-7843-4ccc-98e1-d73089ddda13",
   "metadata": {},
   "outputs": [],
   "source": []
  }
 ],
 "metadata": {
  "kernelspec": {
   "display_name": "Python 3",
   "language": "python",
   "name": "python3"
  },
  "language_info": {
   "codemirror_mode": {
    "name": "ipython",
    "version": 3
   },
   "file_extension": ".py",
   "mimetype": "text/x-python",
   "name": "python",
   "nbconvert_exporter": "python",
   "pygments_lexer": "ipython3",
   "version": "3.8.10"
  }
 },
 "nbformat": 4,
 "nbformat_minor": 5
}
